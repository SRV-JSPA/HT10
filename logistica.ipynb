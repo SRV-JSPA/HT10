{
 "cells": [
  {
   "cell_type": "code",
   "execution_count": 5,
   "metadata": {},
   "outputs": [
    {
     "name": "stdout",
     "output_type": "stream",
     "text": [
      "['BuenosAires', 'SaoPaulo', '10', '15', '20', '50', 'BuenosAires', 'Lima', '15', '20', '30', '70', 'Lima', 'Quito', '10', '12', '15', '20']\n"
     ]
    }
   ],
   "source": [
    "import networkx as nx\n",
    "\n",
    "\n",
    "G= nx.DiGraph()\n",
    "\n",
    "\n",
    "def menu():\n",
    "   print(\"Bienvenido\")\n",
    "   print(\"1. Calcular ruta mas corta entre 2 ciudades\")\n",
    "   print(\"2. Ciudad en el centro del grafo\")\n",
    "   print(\"3. \")\n",
    "\n",
    "lista = []\n",
    "def leerarchvio ():\n",
    "   with open(\"logistica.txt\") as archivo:\n",
    "      lector = archivo.read()\n",
    "\n",
    "   for i in lector.split():\n",
    "      lista.append(i)\n",
    "   \n",
    "   \n",
    "listaN = []\n",
    "def crearNodos():\n",
    "   for i in range(len(lista)):\n",
    "      if lista[i].isdigit():\n",
    "         lista[i].int(lista[i])\n",
    "      \n",
    "\n",
    "\n",
    "\n",
    "\n",
    "\n",
    "leerarchvio()\n",
    "\n",
    "crearNodos()\n",
    "\n",
    "\n",
    "\n",
    "\n",
    "\n",
    "    \n",
    "     \n",
    "\n",
    "\n",
    "\n",
    "\n"
   ]
  }
 ],
 "metadata": {
  "kernelspec": {
   "display_name": "Python 3",
   "language": "python",
   "name": "python3"
  },
  "language_info": {
   "codemirror_mode": {
    "name": "ipython",
    "version": 3
   },
   "file_extension": ".py",
   "mimetype": "text/x-python",
   "name": "python",
   "nbconvert_exporter": "python",
   "pygments_lexer": "ipython3",
   "version": "3.10.11"
  },
  "orig_nbformat": 4
 },
 "nbformat": 4,
 "nbformat_minor": 2
}
