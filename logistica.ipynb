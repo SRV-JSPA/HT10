{
 "cells": [
  {
   "cell_type": "code",
   "execution_count": 3,
   "metadata": {},
   "outputs": [
    {
     "ename": "ModuleNotFoundError",
     "evalue": "No module named 'networkx'",
     "output_type": "error",
     "traceback": [
      "\u001b[0;31m---------------------------------------------------------------------------\u001b[0m",
      "\u001b[0;31mModuleNotFoundError\u001b[0m                       Traceback (most recent call last)",
      "Cell \u001b[0;32mIn[3], line 1\u001b[0m\n\u001b[0;32m----> 1\u001b[0m \u001b[39mimport\u001b[39;00m \u001b[39mnetworkx\u001b[39;00m \u001b[39mas\u001b[39;00m \u001b[39mnx\u001b[39;00m\n\u001b[1;32m      4\u001b[0m G\u001b[39m=\u001b[39m nx\u001b[39m.\u001b[39mDiGraph()\n\u001b[1;32m      7\u001b[0m \u001b[39mdef\u001b[39;00m \u001b[39mmenu\u001b[39m():\n",
      "\u001b[0;31mModuleNotFoundError\u001b[0m: No module named 'networkx'"
     ]
    }
   ],
   "source": [
    "import networkx as nx\n",
    "\n",
    "\n",
    "G= nx.DiGraph()\n",
    "\n",
    "\n",
    "def menu():\n",
    "   print(\"Bienvenido\")\n",
    "   print(\"1. Calcular ruta mas corta entre 2 ciudades\")\n",
    "   print(\"2. Ciudad en el centro del grafo\")\n",
    "   print(\"3. \")\n",
    "\n",
    "lista = []\n",
    "def leerarchvio ():\n",
    "   with open(\"logistica.txt\") as archivo:\n",
    "      lector = archivo.read()\n",
    "\n",
    "   for i in lector.split():\n",
    "      lista.append(i)\n",
    "   \n",
    "   \n",
    "listaN = []\n",
    "def crearNodos():\n",
    "   for i in range(len(lista)):\n",
    "      if lista[i].isdigit():\n",
    "         lista[i] = int(lista[i])\n",
    "   \n",
    "   for i in lista:\n",
    "      if isinstance(i, str):\n",
    "         listaN.append(i)\n",
    "   \n",
    "   print(listaN)\n",
    "      \n",
    "\n",
    "\n",
    "\n",
    "\n",
    "\n",
    "leerarchvio()\n",
    "\n",
    "crearNodos()\n",
    "\n",
    "\n",
    "\n",
    "\n",
    "\n",
    "    \n",
    "     \n",
    "\n",
    "\n",
    "\n",
    "\n"
   ]
  }
 ],
 "metadata": {
  "kernelspec": {
   "display_name": "Python 3",
   "language": "python",
   "name": "python3"
  },
  "language_info": {
   "codemirror_mode": {
    "name": "ipython",
    "version": 3
   },
   "file_extension": ".py",
   "mimetype": "text/x-python",
   "name": "python",
   "nbconvert_exporter": "python",
   "pygments_lexer": "ipython3",
   "version": "3.9.6"
  },
  "orig_nbformat": 4
 },
 "nbformat": 4,
 "nbformat_minor": 2
}
