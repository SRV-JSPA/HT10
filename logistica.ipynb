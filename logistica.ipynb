{
 "cells": [
  {
   "cell_type": "code",
   "execution_count": 12,
   "metadata": {},
   "outputs": [
    {
     "name": "stdout",
     "output_type": "stream",
     "text": [
      "['BuenosAires', 'SaoPaulo', 'BuenosAires', 'Lima', 'Lima', 'Quito']\n"
     ]
    }
   ],
   "source": [
    "import networkx as nx\n",
    "\n",
    "\n",
    "G= nx.DiGraph()\n",
    "\n",
    "\n",
    "def menu():\n",
    "   print(\"Bienvenido\")\n",
    "   print(\"1. Calcular ruta mas corta entre 2 ciudades\")\n",
    "   print(\"2. Ciudad en el centro del grafo\")\n",
    "   print(\"3. \")\n",
    "\n",
    "lista = []\n",
    "def leerarchvio ():\n",
    "   with open(\"logistica.txt\") as archivo:\n",
    "      lector = archivo.read()\n",
    "\n",
    "   for i in lector.split():\n",
    "      lista.append(i)\n",
    "   \n",
    "   \n",
    "listaN = []\n",
    "def separador():\n",
    "   for i in range(len(lista)):\n",
    "      if lista[i].isdigit():\n",
    "         lista[i] = int(lista[i])\n",
    "   \n",
    "   for i in lista:\n",
    "      if isinstance(i, str):\n",
    "         listaN.append(i)\n",
    "   \n",
    "   print(listaN)\n",
    "\n",
    "\n",
    "def crearNodos():\n",
    "   G.add_edges_from(listaN)\n",
    "     \n",
    "\n",
    "\n",
    "\n",
    "\n",
    "\n",
    "leerarchvio()\n",
    "\n",
    "separador()\n",
    "\n",
    "\n",
    "\n",
    "\n",
    "\n",
    "    \n",
    "     \n",
    "\n",
    "\n",
    "\n",
    "\n"
   ]
  }
 ],
 "metadata": {
  "kernelspec": {
   "display_name": "Python 3",
   "language": "python",
   "name": "python3"
  },
  "language_info": {
   "codemirror_mode": {
    "name": "ipython",
    "version": 3
   },
   "file_extension": ".py",
   "mimetype": "text/x-python",
   "name": "python",
   "nbconvert_exporter": "python",
   "pygments_lexer": "ipython3",
   "version": "3.9.6"
  },
  "orig_nbformat": 4
 },
 "nbformat": 4,
 "nbformat_minor": 2
}
