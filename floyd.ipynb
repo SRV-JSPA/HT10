{
 "cells": [
  {
   "cell_type": "code",
   "execution_count": 4,
   "metadata": {},
   "outputs": [
    {
     "ename": "ModuleNotFoundError",
     "evalue": "No module named 'networkx'",
     "output_type": "error",
     "traceback": [
      "\u001b[0;31m---------------------------------------------------------------------------\u001b[0m",
      "\u001b[0;31mModuleNotFoundError\u001b[0m                       Traceback (most recent call last)",
      "Cell \u001b[0;32mIn[4], line 1\u001b[0m\n\u001b[0;32m----> 1\u001b[0m \u001b[39mimport\u001b[39;00m \u001b[39mnetworkx\u001b[39;00m \u001b[39mas\u001b[39;00m \u001b[39mnx\u001b[39;00m\n\u001b[1;32m      2\u001b[0m \u001b[39mimport\u001b[39;00m \u001b[39mmatplotlib\u001b[39;00m\u001b[39m.\u001b[39;00m\u001b[39mpyplot\u001b[39;00m \u001b[39mas\u001b[39;00m \u001b[39mplt\u001b[39;00m\n\u001b[1;32m      3\u001b[0m G \u001b[39m=\u001b[39m nx\u001b[39m.\u001b[39mDiGraph()\n",
      "\u001b[0;31mModuleNotFoundError\u001b[0m: No module named 'networkx'"
     ]
    }
   ],
   "source": [
    "import networkx as nx\n",
    "import matplotlib.pyplot as plt\n",
    "G = nx.DiGraph()\n",
    "\n",
    "m_ady = (nx.adjacency_matrix(G).todense())\n",
    "G = G.to_directed() #transformar dirigido\n",
    "\n",
    "\n",
    "def floyd_algorithm(m_ady):\n",
    "    f = m_ady.copy() #matriz anterior\n",
    "    n = m_ady.shape[0]\n",
    "    for k in range(n): #pivote\n",
    "        mf = f.copy() #matriz actual\n",
    "        for i in range(n): #filas\n",
    "            for j in range(n): #columnas\n",
    "                mf[i, j] = f[i, j] or (f[k, j] and f[i, k])\n",
    "        f = mf.copy() #actualiza\n",
    "    return f\n",
    "\n",
    "m_ady = (nx.adjacency_matrix(G).todense())\n",
    "print(m_ady)\n",
    "print(type(m_ady))\n",
    "print(floyd_algorithm(m_ady))\n",
    "nx.drawing(G, pos=nx.spring_layout(G))\n",
    "plt.show"
   ]
  }
 ],
 "metadata": {
  "kernelspec": {
   "display_name": "Python 3",
   "language": "python",
   "name": "python3"
  },
  "language_info": {
   "codemirror_mode": {
    "name": "ipython",
    "version": 3
   },
   "file_extension": ".py",
   "mimetype": "text/x-python",
   "name": "python",
   "nbconvert_exporter": "python",
   "pygments_lexer": "ipython3",
   "version": "3.9.6"
  },
  "orig_nbformat": 4
 },
 "nbformat": 4,
 "nbformat_minor": 2
}
